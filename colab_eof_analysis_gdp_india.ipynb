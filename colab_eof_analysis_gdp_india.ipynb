{
  "nbformat": 4,
  "nbformat_minor": 0,
  "metadata": {
    "kernelspec": {
      "display_name": "Python 3",
      "language": "python",
      "name": "python3"
    },
    "language_info": {
      "codemirror_mode": {
        "name": "ipython",
        "version": 3
      },
      "file_extension": ".py",
      "mimetype": "text/x-python",
      "name": "python",
      "nbconvert_exporter": "python",
      "pygments_lexer": "ipython3",
      "version": "3.7.3"
    },
    "colab": {
      "name": "eof analysis gdp india.ipynb",
      "provenance": [],
      "collapsed_sections": [
        "_evZ2Sv8SLAK",
        "dVmR90g7SLAN"
      ],
      "include_colab_link": true
    }
  },
  "cells": [
    {
      "cell_type": "markdown",
      "metadata": {
        "id": "view-in-github",
        "colab_type": "text"
      },
      "source": [
        "<a href=\"https://colab.research.google.com/github/ArmaanBhullar/grid_gdp_analysis/blob/master/colab_eof_analysis_gdp_india.ipynb\" target=\"_parent\"><img src=\"https://colab.research.google.com/assets/colab-badge.svg\" alt=\"Open In Colab\"/></a>"
      ]
    },
    {
      "cell_type": "code",
      "metadata": {
        "id": "lEeDjBY4bU_S",
        "colab_type": "code",
        "outputId": "c454d58c-3396-4836-cae0-e9bd8f77cd77",
        "colab": {
          "base_uri": "https://localhost:8080/",
          "height": 1000
        }
      },
      "source": [
        "!apt-get install libgeos-3.5.0\n",
        "!apt-get install libgeos-dev\n",
        "!pip install https://github.com/matplotlib/basemap/archive/master.zip\n",
        "!pip install rasterio\n",
        "!pip install eofs netCDF4 tqdm seaborn \n",
        "!pip install pyshp\n",
        "!pip install geopandas\n",
        "!pip install rasterio\n",
        "!pip install xarray"
      ],
      "execution_count": 1,
      "outputs": [
        {
          "output_type": "stream",
          "text": [
            "Reading package lists... Done\n",
            "Building dependency tree       \n",
            "Reading state information... Done\n",
            "E: Unable to locate package libgeos-3.5.0\n",
            "E: Couldn't find any package by glob 'libgeos-3.5.0'\n",
            "E: Couldn't find any package by regex 'libgeos-3.5.0'\n",
            "Reading package lists... Done\n",
            "Building dependency tree       \n",
            "Reading state information... Done\n",
            "Suggested packages:\n",
            "  libgdal-doc\n",
            "The following NEW packages will be installed:\n",
            "  libgeos-dev\n",
            "0 upgraded, 1 newly installed, 0 to remove and 35 not upgraded.\n",
            "Need to get 73.1 kB of archives.\n",
            "After this operation, 486 kB of additional disk space will be used.\n",
            "Get:1 http://archive.ubuntu.com/ubuntu bionic/universe amd64 libgeos-dev amd64 3.6.2-1build2 [73.1 kB]\n",
            "Fetched 73.1 kB in 0s (191 kB/s)\n",
            "Selecting previously unselected package libgeos-dev.\n",
            "(Reading database ... 132684 files and directories currently installed.)\n",
            "Preparing to unpack .../libgeos-dev_3.6.2-1build2_amd64.deb ...\n",
            "Unpacking libgeos-dev (3.6.2-1build2) ...\n",
            "Setting up libgeos-dev (3.6.2-1build2) ...\n",
            "Processing triggers for man-db (2.8.3-2ubuntu0.1) ...\n",
            "Collecting https://github.com/matplotlib/basemap/archive/master.zip\n",
            "\u001b[?25l  Downloading https://github.com/matplotlib/basemap/archive/master.zip (133.1MB)\n",
            "\u001b[K     |████████████████████████████████| 133.1MB 81kB/s \n",
            "\u001b[?25hRequirement already satisfied: matplotlib!=3.0.1,>=1.0.0 in /usr/local/lib/python3.6/dist-packages (from basemap==1.2.1) (3.1.1)\n",
            "Requirement already satisfied: numpy>=1.2.1 in /usr/local/lib/python3.6/dist-packages (from basemap==1.2.1) (1.17.4)\n",
            "Collecting pyproj>=1.9.3\n",
            "\u001b[?25l  Downloading https://files.pythonhosted.org/packages/1d/45/ea3ae47cd95fcb9f8631c290d00377196aa5f409792b49e4a8a20a3588f5/pyproj-2.4.1-cp36-cp36m-manylinux2010_x86_64.whl (10.1MB)\n",
            "\u001b[K     |████████████████████████████████| 10.1MB 2.6MB/s \n",
            "\u001b[?25hCollecting pyshp>=1.2.0\n",
            "\u001b[?25l  Downloading https://files.pythonhosted.org/packages/27/16/3bf15aa864fb77845fab8007eda22c2bd67bd6c1fd13496df452c8c43621/pyshp-2.1.0.tar.gz (215kB)\n",
            "\u001b[K     |████████████████████████████████| 225kB 40.1MB/s \n",
            "\u001b[?25hRequirement already satisfied: six in /usr/local/lib/python3.6/dist-packages (from basemap==1.2.1) (1.12.0)\n",
            "Requirement already satisfied: cycler>=0.10 in /usr/local/lib/python3.6/dist-packages (from matplotlib!=3.0.1,>=1.0.0->basemap==1.2.1) (0.10.0)\n",
            "Requirement already satisfied: kiwisolver>=1.0.1 in /usr/local/lib/python3.6/dist-packages (from matplotlib!=3.0.1,>=1.0.0->basemap==1.2.1) (1.1.0)\n",
            "Requirement already satisfied: pyparsing!=2.0.4,!=2.1.2,!=2.1.6,>=2.0.1 in /usr/local/lib/python3.6/dist-packages (from matplotlib!=3.0.1,>=1.0.0->basemap==1.2.1) (2.4.5)\n",
            "Requirement already satisfied: python-dateutil>=2.1 in /usr/local/lib/python3.6/dist-packages (from matplotlib!=3.0.1,>=1.0.0->basemap==1.2.1) (2.6.1)\n",
            "Requirement already satisfied: setuptools in /usr/local/lib/python3.6/dist-packages (from kiwisolver>=1.0.1->matplotlib!=3.0.1,>=1.0.0->basemap==1.2.1) (41.4.0)\n",
            "Building wheels for collected packages: basemap, pyshp\n",
            "  Building wheel for basemap (setup.py) ... \u001b[?25l\u001b[?25hdone\n",
            "  Created wheel for basemap: filename=basemap-1.2.1-cp36-cp36m-linux_x86_64.whl size=121756035 sha256=6bddf186116aca50157b66bf63f5b3c117bff24083847f6bc76252730c0140d8\n",
            "  Stored in directory: /tmp/pip-ephem-wheel-cache-unm5gwxr/wheels/98/4a/fc/ce719b75d97e646645c225f3332b1b217536100314922e9572\n",
            "  Building wheel for pyshp (setup.py) ... \u001b[?25l\u001b[?25hdone\n",
            "  Created wheel for pyshp: filename=pyshp-2.1.0-cp36-none-any.whl size=32607 sha256=5bfc40a75e88e125ab0323a58250be01c0076a5cbb4232b8c42c2a05f0ef8f0c\n",
            "  Stored in directory: /root/.cache/pip/wheels/a6/0c/de/321b5192ad416b328975a2f0385f72c64db4656501eba7cc1a\n",
            "Successfully built basemap pyshp\n",
            "Installing collected packages: pyproj, pyshp, basemap\n",
            "Successfully installed basemap-1.2.1 pyproj-2.4.1 pyshp-2.1.0\n"
          ],
          "name": "stdout"
        },
        {
          "output_type": "display_data",
          "data": {
            "application/vnd.colab-display-data+json": {
              "pip_warning": {
                "packages": [
                  "mpl_toolkits"
                ]
              }
            }
          },
          "metadata": {
            "tags": []
          }
        },
        {
          "output_type": "stream",
          "text": [
            "Collecting rasterio\n",
            "\u001b[?25l  Downloading https://files.pythonhosted.org/packages/94/da/a06e29e22dd464e618ae0fe580f444b0782ccf75fe3a784249cb59534f32/rasterio-1.1.1-cp36-cp36m-manylinux1_x86_64.whl (15.2MB)\n",
            "\u001b[K     |████████████████████████████████| 15.2MB 14.7MB/s \n",
            "\u001b[?25hRequirement already satisfied: attrs in /usr/local/lib/python3.6/dist-packages (from rasterio) (19.3.0)\n",
            "Collecting affine\n",
            "  Downloading https://files.pythonhosted.org/packages/ac/a6/1a39a1ede71210e3ddaf623982b06ecfc5c5c03741ae659073159184cd3e/affine-2.3.0-py2.py3-none-any.whl\n",
            "Requirement already satisfied: click<8,>=4.0 in /usr/local/lib/python3.6/dist-packages (from rasterio) (7.0)\n",
            "Collecting click-plugins\n",
            "  Downloading https://files.pythonhosted.org/packages/e9/da/824b92d9942f4e472702488857914bdd50f73021efea15b4cad9aca8ecef/click_plugins-1.1.1-py2.py3-none-any.whl\n",
            "Collecting snuggs>=1.4.1\n",
            "  Downloading https://files.pythonhosted.org/packages/cc/0e/d27d6e806d6c0d1a2cfdc5d1f088e42339a0a54a09c3343f7f81ec8947ea/snuggs-1.4.7-py3-none-any.whl\n",
            "Collecting cligj>=0.5\n",
            "  Downloading https://files.pythonhosted.org/packages/e4/be/30a58b4b0733850280d01f8bd132591b4668ed5c7046761098d665ac2174/cligj-0.5.0-py3-none-any.whl\n",
            "Requirement already satisfied: numpy in /usr/local/lib/python3.6/dist-packages (from rasterio) (1.17.4)\n",
            "Requirement already satisfied: pyparsing>=2.1.6 in /usr/local/lib/python3.6/dist-packages (from snuggs>=1.4.1->rasterio) (2.4.5)\n",
            "Installing collected packages: affine, click-plugins, snuggs, cligj, rasterio\n",
            "Successfully installed affine-2.3.0 click-plugins-1.1.1 cligj-0.5.0 rasterio-1.1.1 snuggs-1.4.7\n",
            "Collecting eofs\n",
            "\u001b[?25l  Downloading https://files.pythonhosted.org/packages/a6/7a/90efd4238918d97c8f5870e514caa684b942870c14a65952ad7c88a9bcc5/eofs-1.4.0.tar.gz (1.0MB)\n",
            "\u001b[K     |████████████████████████████████| 1.0MB 2.8MB/s \n",
            "\u001b[?25hCollecting netCDF4\n",
            "\u001b[?25l  Downloading https://files.pythonhosted.org/packages/35/4f/d49fe0c65dea4d2ebfdc602d3e3d2a45a172255c151f4497c43f6d94a5f6/netCDF4-1.5.3-cp36-cp36m-manylinux1_x86_64.whl (4.1MB)\n",
            "\u001b[K     |████████████████████████████████| 4.1MB 45.3MB/s \n",
            "\u001b[?25hRequirement already satisfied: tqdm in /usr/local/lib/python3.6/dist-packages (4.28.1)\n",
            "Requirement already satisfied: seaborn in /usr/local/lib/python3.6/dist-packages (0.9.0)\n",
            "Requirement already satisfied: numpy in /usr/local/lib/python3.6/dist-packages (from eofs) (1.17.4)\n",
            "Collecting cftime\n",
            "\u001b[?25l  Downloading https://files.pythonhosted.org/packages/d7/20/15fd894e64f14d6b8afa1cd6dd833c1ea85d1cedb46fdba2d9f8fbc3a924/cftime-1.0.4.2-cp36-cp36m-manylinux1_x86_64.whl (308kB)\n",
            "\u001b[K     |████████████████████████████████| 317kB 48.5MB/s \n",
            "\u001b[?25hRequirement already satisfied: matplotlib>=1.4.3 in /usr/local/lib/python3.6/dist-packages (from seaborn) (3.1.1)\n",
            "Requirement already satisfied: scipy>=0.14.0 in /usr/local/lib/python3.6/dist-packages (from seaborn) (1.3.2)\n",
            "Requirement already satisfied: pandas>=0.15.2 in /usr/local/lib/python3.6/dist-packages (from seaborn) (0.25.3)\n",
            "Requirement already satisfied: pyparsing!=2.0.4,!=2.1.2,!=2.1.6,>=2.0.1 in /usr/local/lib/python3.6/dist-packages (from matplotlib>=1.4.3->seaborn) (2.4.5)\n",
            "Requirement already satisfied: cycler>=0.10 in /usr/local/lib/python3.6/dist-packages (from matplotlib>=1.4.3->seaborn) (0.10.0)\n",
            "Requirement already satisfied: python-dateutil>=2.1 in /usr/local/lib/python3.6/dist-packages (from matplotlib>=1.4.3->seaborn) (2.6.1)\n",
            "Requirement already satisfied: kiwisolver>=1.0.1 in /usr/local/lib/python3.6/dist-packages (from matplotlib>=1.4.3->seaborn) (1.1.0)\n",
            "Requirement already satisfied: pytz>=2017.2 in /usr/local/lib/python3.6/dist-packages (from pandas>=0.15.2->seaborn) (2018.9)\n",
            "Requirement already satisfied: six in /usr/local/lib/python3.6/dist-packages (from cycler>=0.10->matplotlib>=1.4.3->seaborn) (1.12.0)\n",
            "Requirement already satisfied: setuptools in /usr/local/lib/python3.6/dist-packages (from kiwisolver>=1.0.1->matplotlib>=1.4.3->seaborn) (41.4.0)\n",
            "Building wheels for collected packages: eofs\n",
            "  Building wheel for eofs (setup.py) ... \u001b[?25l\u001b[?25hdone\n",
            "  Created wheel for eofs: filename=eofs-1.4.0-cp36-none-any.whl size=1100357 sha256=83d3a7e58b231a96109900e62ea47ea83b2767422063028725ca6ada88fbb016\n",
            "  Stored in directory: /root/.cache/pip/wheels/47/f8/64/72dfdafae89c380846799c1396957cddd04decf459242ea988\n",
            "Successfully built eofs\n",
            "Installing collected packages: eofs, cftime, netCDF4\n",
            "Successfully installed cftime-1.0.4.2 eofs-1.4.0 netCDF4-1.5.3\n",
            "Requirement already satisfied: pyshp in /usr/local/lib/python3.6/dist-packages (2.1.0)\n",
            "Collecting geopandas\n",
            "\u001b[?25l  Downloading https://files.pythonhosted.org/packages/59/39/de0263d511d4fc35a640cf00d02e497eb60698315a22936bedbdd904d7f7/geopandas-0.6.1-py2.py3-none-any.whl (918kB)\n",
            "\u001b[K     |████████████████████████████████| 921kB 2.8MB/s \n",
            "\u001b[?25hRequirement already satisfied: pandas>=0.23.0 in /usr/local/lib/python3.6/dist-packages (from geopandas) (0.25.3)\n",
            "Requirement already satisfied: pyproj in /usr/local/lib/python3.6/dist-packages (from geopandas) (2.4.1)\n",
            "Collecting fiona\n",
            "\u001b[?25l  Downloading https://files.pythonhosted.org/packages/a6/8f/abad0244b2872fca20e49b149c6680a89171c3af9735e9dfa7eb33cc187a/Fiona-1.8.11-cp36-cp36m-manylinux1_x86_64.whl (11.8MB)\n",
            "\u001b[K     |████████████████████████████████| 11.8MB 205kB/s \n",
            "\u001b[?25hRequirement already satisfied: shapely in /usr/local/lib/python3.6/dist-packages (from geopandas) (1.6.4.post2)\n",
            "Requirement already satisfied: python-dateutil>=2.6.1 in /usr/local/lib/python3.6/dist-packages (from pandas>=0.23.0->geopandas) (2.6.1)\n",
            "Requirement already satisfied: pytz>=2017.2 in /usr/local/lib/python3.6/dist-packages (from pandas>=0.23.0->geopandas) (2018.9)\n",
            "Requirement already satisfied: numpy>=1.13.3 in /usr/local/lib/python3.6/dist-packages (from pandas>=0.23.0->geopandas) (1.17.4)\n",
            "Requirement already satisfied: click<8,>=4.0 in /usr/local/lib/python3.6/dist-packages (from fiona->geopandas) (7.0)\n",
            "Requirement already satisfied: six>=1.7 in /usr/local/lib/python3.6/dist-packages (from fiona->geopandas) (1.12.0)\n",
            "Requirement already satisfied: cligj>=0.5 in /usr/local/lib/python3.6/dist-packages (from fiona->geopandas) (0.5.0)\n",
            "Collecting munch\n",
            "  Downloading https://files.pythonhosted.org/packages/cc/ab/85d8da5c9a45e072301beb37ad7f833cd344e04c817d97e0cc75681d248f/munch-2.5.0-py2.py3-none-any.whl\n",
            "Requirement already satisfied: click-plugins>=1.0 in /usr/local/lib/python3.6/dist-packages (from fiona->geopandas) (1.1.1)\n",
            "Requirement already satisfied: attrs>=17 in /usr/local/lib/python3.6/dist-packages (from fiona->geopandas) (19.3.0)\n",
            "Installing collected packages: munch, fiona, geopandas\n",
            "Successfully installed fiona-1.8.11 geopandas-0.6.1 munch-2.5.0\n",
            "Requirement already satisfied: rasterio in /usr/local/lib/python3.6/dist-packages (1.1.1)\n",
            "Requirement already satisfied: affine in /usr/local/lib/python3.6/dist-packages (from rasterio) (2.3.0)\n",
            "Requirement already satisfied: numpy in /usr/local/lib/python3.6/dist-packages (from rasterio) (1.17.4)\n",
            "Requirement already satisfied: snuggs>=1.4.1 in /usr/local/lib/python3.6/dist-packages (from rasterio) (1.4.7)\n",
            "Requirement already satisfied: click-plugins in /usr/local/lib/python3.6/dist-packages (from rasterio) (1.1.1)\n",
            "Requirement already satisfied: attrs in /usr/local/lib/python3.6/dist-packages (from rasterio) (19.3.0)\n",
            "Requirement already satisfied: cligj>=0.5 in /usr/local/lib/python3.6/dist-packages (from rasterio) (0.5.0)\n",
            "Requirement already satisfied: click<8,>=4.0 in /usr/local/lib/python3.6/dist-packages (from rasterio) (7.0)\n",
            "Requirement already satisfied: pyparsing>=2.1.6 in /usr/local/lib/python3.6/dist-packages (from snuggs>=1.4.1->rasterio) (2.4.5)\n",
            "Requirement already satisfied: xarray in /usr/local/lib/python3.6/dist-packages (0.11.3)\n",
            "Requirement already satisfied: numpy>=1.12 in /usr/local/lib/python3.6/dist-packages (from xarray) (1.17.4)\n",
            "Requirement already satisfied: pandas>=0.19.2 in /usr/local/lib/python3.6/dist-packages (from xarray) (0.25.3)\n",
            "Requirement already satisfied: pytz>=2017.2 in /usr/local/lib/python3.6/dist-packages (from pandas>=0.19.2->xarray) (2018.9)\n",
            "Requirement already satisfied: python-dateutil>=2.6.1 in /usr/local/lib/python3.6/dist-packages (from pandas>=0.19.2->xarray) (2.6.1)\n",
            "Requirement already satisfied: six>=1.5 in /usr/local/lib/python3.6/dist-packages (from python-dateutil>=2.6.1->pandas>=0.19.2->xarray) (1.12.0)\n"
          ],
          "name": "stdout"
        }
      ]
    },
    {
      "cell_type": "code",
      "metadata": {
        "id": "NiXeT8orXyLw",
        "colab_type": "code",
        "colab": {}
      },
      "source": [
        "import xarray"
      ],
      "execution_count": 0,
      "outputs": []
    },
    {
      "cell_type": "code",
      "metadata": {
        "id": "b2H8TcoiSK_N",
        "colab_type": "code",
        "colab": {}
      },
      "source": [
        "from netCDF4 import Dataset\n",
        "import numpy as np\n",
        "import eofs\n",
        "import tqdm\n",
        "import matplotlib.pyplot as plt\n",
        "# import jupyterthemes\n",
        "import seaborn as sns\n",
        "# from jupyterthemes import jtplot"
      ],
      "execution_count": 0,
      "outputs": []
    },
    {
      "cell_type": "code",
      "metadata": {
        "id": "3zTE6oFISK_Q",
        "colab_type": "code",
        "colab": {}
      },
      "source": [
        "# jupyterthemes.jtplot.style('onedork')\n",
        "sns.set()"
      ],
      "execution_count": 0,
      "outputs": []
    },
    {
      "cell_type": "markdown",
      "metadata": {
        "id": "TuvNALkQSK_T",
        "colab_type": "text"
      },
      "source": [
        "# No execution needed, variable will be loaded later"
      ]
    },
    {
      "cell_type": "code",
      "metadata": {
        "id": "dHKXEBXFURHZ",
        "colab_type": "code",
        "outputId": "2461b84c-9bd4-4e51-f31d-c37847e85640",
        "colab": {
          "base_uri": "https://localhost:8080/",
          "height": 122
        }
      },
      "source": [
        "## connect to drive for data\n",
        "from google.colab import drive\n",
        "drive.mount('/content/drive')"
      ],
      "execution_count": 3,
      "outputs": [
        {
          "output_type": "stream",
          "text": [
            "Go to this URL in a browser: https://accounts.google.com/o/oauth2/auth?client_id=947318989803-6bn6qk8qdgf4n4g3pfee6491hc0brc4i.apps.googleusercontent.com&redirect_uri=urn%3aietf%3awg%3aoauth%3a2.0%3aoob&response_type=code&scope=email%20https%3a%2f%2fwww.googleapis.com%2fauth%2fdocs.test%20https%3a%2f%2fwww.googleapis.com%2fauth%2fdrive%20https%3a%2f%2fwww.googleapis.com%2fauth%2fdrive.photos.readonly%20https%3a%2f%2fwww.googleapis.com%2fauth%2fpeopleapi.readonly\n",
            "\n",
            "Enter your authorization code:\n",
            "··········\n",
            "Mounted at /content/drive\n"
          ],
          "name": "stdout"
        }
      ]
    },
    {
      "cell_type": "code",
      "metadata": {
        "id": "oTBKoaDBUkIX",
        "colab_type": "code",
        "colab": {}
      },
      "source": [
        "root_path =  \"/content/drive/My Drive/data\""
      ],
      "execution_count": 0,
      "outputs": []
    },
    {
      "cell_type": "markdown",
      "metadata": {
        "id": "NgrxX83G-SUC",
        "colab_type": "text"
      },
      "source": [
        "## Construct array with GDP data - not needed as already done once"
      ]
    },
    {
      "cell_type": "code",
      "metadata": {
        "id": "g5QFRFNLSK_T",
        "colab_type": "code",
        "outputId": "018b63b5-5091-4b50-e243-f3a0659d3625",
        "colab": {
          "base_uri": "https://localhost:8080/",
          "height": 221
        }
      },
      "source": [
        "gdp = Dataset('/content/drive/My Drive/data/GDP_PPP_1990_2015_5arcmin_v2.nc', 'r')\n",
        "print(gdp)"
      ],
      "execution_count": 7,
      "outputs": [
        {
          "output_type": "stream",
          "text": [
            "<class 'netCDF4._netCDF4.Dataset'>\n",
            "root group (NETCDF4 data model, file format HDF5):\n",
            "    creation_date: 02-Aug-2017 14:30:34\n",
            "    resolution: 5 arc-min\n",
            "    projection: WGS84\n",
            "    extent: lat: 90�S - 90�N; lon: 180�E - 180�W\n",
            "    product: Total Gross Domestic Production (GDP) (PPP) for years 1990-2015\n",
            "    citation: When using the data, please refer to following publication: TBA\n",
            "    more information: For more information, see: TBA\n",
            "    dimensions(sizes): longitude(4320), latitude(2160), time(26)\n",
            "    variables(dimensions): float32 longitude(longitude), float32 latitude(latitude), float32 time(time), float32 GDP_PPP(time,latitude,longitude)\n",
            "    groups: \n"
          ],
          "name": "stdout"
        }
      ]
    },
    {
      "cell_type": "code",
      "metadata": {
        "id": "DqTFwkegMiq8",
        "colab_type": "code",
        "outputId": "282e1a39-fde2-4be5-a16d-97cb339e7584",
        "colab": {
          "base_uri": "https://localhost:8080/",
          "height": 34
        }
      },
      "source": [
        "gdp.projection"
      ],
      "execution_count": 8,
      "outputs": [
        {
          "output_type": "execute_result",
          "data": {
            "text/plain": [
              "'WGS84'"
            ]
          },
          "metadata": {
            "tags": []
          },
          "execution_count": 8
        }
      ]
    },
    {
      "cell_type": "markdown",
      "metadata": {
        "id": "SldHcJndKRVK",
        "colab_type": "text"
      },
      "source": [
        "Select a subset of latitudes and longitudes and perform EOF analysis for India\n",
        "north_lat = 37°6′ N\n",
        "south_lat = 8°4′N\n",
        "east_long = 97°25′ E\n",
        "west_long = 68°7′ E"
      ]
    },
    {
      "cell_type": "code",
      "metadata": {
        "id": "5WqRhMrj7W6W",
        "colab_type": "code",
        "colab": {}
      },
      "source": [
        "import sys\n",
        "import pickle\n",
        "lons = pickle.load( open('/content/drive/My Drive/data/GDP_PPP_1990_2015_lons.pkl', 'rb'))\n",
        "gdp_arr = pickle.load( open('/content/drive/My Drive/data/GDP_PPP.pkl', 'rb'))\n",
        "lats = pickle.load( open('/content/drive/My Drive/data/GDP_PPP_1990_2015_lats.pkl', 'rb'))\n",
        "years = pickle.load( open('/content/drive/My Drive/data/GDP_PPP_1990_2015_years.pkl', 'rb'))"
      ],
      "execution_count": 0,
      "outputs": []
    },
    {
      "cell_type": "code",
      "metadata": {
        "id": "MYpGXuYf7--Q",
        "colab_type": "code",
        "colab": {}
      },
      "source": [
        "east_lon = 97+25/60\n",
        "west_lon = 68+7/60\n",
        "north_lat = 37.1\n",
        "south_lat = 8+4/60"
      ],
      "execution_count": 0,
      "outputs": []
    },
    {
      "cell_type": "code",
      "metadata": {
        "id": "Ym-rN02EKysX",
        "colab_type": "code",
        "colab": {}
      },
      "source": [
        "#Load india shapefile and mask everything except india in gdp data\n",
        "import os\n",
        "import shapefile as shp\n",
        "shp_path = os.path.join(root_path,\"INDIA/INDIA.shp\")\n",
        "sf = shp.Reader(shp_path)"
      ],
      "execution_count": 0,
      "outputs": []
    },
    {
      "cell_type": "code",
      "metadata": {
        "id": "4Rbf4ZUURO08",
        "colab_type": "code",
        "colab": {}
      },
      "source": [
        "india = geopandas.read_file(os.path.join(root_path,\"INDIA/INDIA.shp\"))"
      ],
      "execution_count": 0,
      "outputs": []
    },
    {
      "cell_type": "code",
      "metadata": {
        "id": "TCp00DrSYSeB",
        "colab_type": "code",
        "outputId": "60414d62-749c-494f-de15-07ff4946d651",
        "colab": {
          "base_uri": "https://localhost:8080/",
          "height": 612
        }
      },
      "source": [
        "india.ST_NAME.tolist()"
      ],
      "execution_count": 14,
      "outputs": [
        {
          "output_type": "execute_result",
          "data": {
            "text/plain": [
              "['ANDAMAN AND NICOBAR ISLANDS',\n",
              " 'Andhra Pradesh',\n",
              " 'Arunachal Pradesh',\n",
              " 'Assam',\n",
              " 'Bihar',\n",
              " 'CHANDIGARH',\n",
              " 'Chhattisgarh',\n",
              " 'DADRA AND NAGAR HAVELI',\n",
              " 'DAMAN AND DIU',\n",
              " 'Goa',\n",
              " 'Gujarat',\n",
              " 'Haryana',\n",
              " 'Himachal Pradesh',\n",
              " 'Jammu And Kashmir',\n",
              " 'Jharkhand',\n",
              " 'Karnataka',\n",
              " 'Kerala',\n",
              " 'LAKSHADWEEP',\n",
              " 'Madhya Pradesh',\n",
              " 'Maharashtra',\n",
              " 'Manipur',\n",
              " 'Meghalaya',\n",
              " 'Mizoram',\n",
              " 'Nagaland',\n",
              " 'Nct Of Delhi',\n",
              " 'Orissa',\n",
              " 'Pondicherry',\n",
              " 'Punjab',\n",
              " 'Rajasthan',\n",
              " 'Sikkim',\n",
              " 'Tamil Nadu',\n",
              " 'Tripura',\n",
              " 'Uttar Pradesh',\n",
              " 'Uttarakhand',\n",
              " 'West Bengal']"
            ]
          },
          "metadata": {
            "tags": []
          },
          "execution_count": 14
        }
      ]
    },
    {
      "cell_type": "code",
      "metadata": {
        "id": "OZU3S-q2SEeV",
        "colab_type": "code",
        "colab": {}
      },
      "source": [
        "import xarray\n",
        "world_xarray = xarray.Dataset(coords={'longitude': lons,\n",
        "                          'latitude': lats})"
      ],
      "execution_count": 0,
      "outputs": []
    },
    {
      "cell_type": "code",
      "metadata": {
        "id": "EG_pkz1JXllE",
        "colab_type": "code",
        "colab": {}
      },
      "source": [
        "import geopandas\n",
        "from rasterio import features\n",
        "from affine import Affine\n",
        "\n",
        "def transform_from_latlon(lat, lon):\n",
        "    lat = np.asarray(lat)\n",
        "    lon = np.asarray(lon)\n",
        "    trans = Affine.translation(lon[0], lat[0])\n",
        "    scale = Affine.scale(lon[1] - lon[0], lat[1] - lat[0])\n",
        "    return trans * scale\n",
        "\n",
        "def rasterize(shapes, coords, fill=np.nan, **kwargs):\n",
        "    \"\"\"Rasterize a list of (geometry, fill_value) tuples onto the given\n",
        "    xray coordinates. This only works for 1d latitude and longitude\n",
        "    arrays.\n",
        "    \"\"\"\n",
        "    transform = transform_from_latlon(coords['latitude'], coords['longitude'])\n",
        "    out_shape = (len(coords['latitude']), len(coords['longitude']))\n",
        "    raster = features.rasterize(shapes, out_shape=out_shape,\n",
        "                                fill=fill, transform=transform,\n",
        "                                dtype=float, **kwargs)\n",
        "    return xarray.DataArray(raster, coords=coords, dims=('latitude', 'longitude'))"
      ],
      "execution_count": 0,
      "outputs": []
    },
    {
      "cell_type": "code",
      "metadata": {
        "id": "DgymiuNZXomv",
        "colab_type": "code",
        "colab": {}
      },
      "source": [
        "state_ids = {k: i for i, k in enumerate(india.ST_NAME)}\n",
        "# print(state_ids)\n",
        "shapes = [(shape, n) for n, shape in enumerate(india.geometry)]\n",
        "ds['states'] = rasterize(shapes, ds.coords)\n",
        "world_xarray['india_states'] = rasterize(shapes, world_xarray.coords)"
      ],
      "execution_count": 0,
      "outputs": []
    },
    {
      "cell_type": "code",
      "metadata": {
        "id": "huxle1yBpPP5",
        "colab_type": "code",
        "colab": {}
      },
      "source": [
        "print(shapes)"
      ],
      "execution_count": 0,
      "outputs": []
    },
    {
      "cell_type": "code",
      "metadata": {
        "id": "PZDkGqkmamD9",
        "colab_type": "code",
        "colab": {}
      },
      "source": [
        "# ds.states.where(ds.states == state_ids['Punjab' ]).plot()\n",
        "ds.states.plot(cmap='jet', figsize=(15, 15))"
      ],
      "execution_count": 0,
      "outputs": []
    },
    {
      "cell_type": "code",
      "metadata": {
        "id": "XlUyw_aqoEVL",
        "colab_type": "code",
        "colab": {
          "base_uri": "https://localhost:8080/",
          "height": 900
        },
        "outputId": "f1456f66-af52-48be-fcd6-807aa9c1a09f"
      },
      "source": [
        "world_xarray.india_states.plot(cmap='jet', figsize=(15, 15))"
      ],
      "execution_count": 22,
      "outputs": [
        {
          "output_type": "execute_result",
          "data": {
            "text/plain": [
              "<matplotlib.collections.QuadMesh at 0x7fc8d99a5978>"
            ]
          },
          "metadata": {
            "tags": []
          },
          "execution_count": 22
        },
        {
          "output_type": "display_data",
          "data": {
            "image/png": "[encoded data removed]",
            "text/plain": [
              "<Figure size 1080x1080 with 2 Axes>"
            ]
          },
          "metadata": {
            "tags": []
          }
        }
      ]
    },
    {
      "cell_type": "code",
      "metadata": {
        "id": "kCs65AnBo_ju",
        "colab_type": "code",
        "colab": {}
      },
      "source": [
        "tmp = world_xarray.to_array()\n",
        "india_masked_array = tmp.to_masked_array(copy=True)"
      ],
      "execution_count": 0,
      "outputs": []
    },
    {
      "cell_type": "code",
      "metadata": {
        "id": "zFN1ro2pZxIj",
        "colab_type": "code",
        "colab": {}
      },
      "source": [
        ""
      ],
      "execution_count": 0,
      "outputs": []
    },
    {
      "cell_type": "markdown",
      "metadata": {
        "id": "CeKA_pl-Z5Cf",
        "colab_type": "text"
      },
      "source": [
        "Now extract the mask, apply it to GDP data and store the output, finally write a function to do the same and be done with this notebook. Put the function in a py file."
      ]
    },
    {
      "cell_type": "code",
      "metadata": {
        "id": "A4krDqWuaGk4",
        "colab_type": "code",
        "colab": {
          "base_uri": "https://localhost:8080/",
          "height": 68
        },
        "outputId": "bb7ec3a4-bea8-40a5-af56-6a3ed2f7b1dd"
      },
      "source": [
        "sha = india_masked_array.mask.shape\n",
        "print(sha)\n",
        "print(\"Shape of array and num of points = \", sha, sha[1]*sha[2])\n",
        "print(\"Number of non masked points and ratio of such points = \", np.sum(~india_masked_array.mask), np.sum(~india_masked_array.mask)/(sha[1]*sha[2]))"
      ],
      "execution_count": 30,
      "outputs": [
        {
          "output_type": "stream",
          "text": [
            "(1, 2160, 4320)\n",
            "Shape of array and num of points =  (1, 2160, 4320) 9331200\n",
            "Number of non masked points and ratio of such points =  41904 0.0044907407407407405\n"
          ],
          "name": "stdout"
        }
      ]
    },
    {
      "cell_type": "code",
      "metadata": {
        "id": "2T80nTqQc2wg",
        "colab_type": "code",
        "colab": {}
      },
      "source": [
        "india_timed_mask = np.zeros(shape=gdp_arr.shape)\n",
        "india_timed_mask.shape\n",
        "for i in range(26):\n",
        "  india_timed_mask[i] = india_masked_array.mask.copy()"
      ],
      "execution_count": 0,
      "outputs": []
    },
    {
      "cell_type": "code",
      "metadata": {
        "id": "c1aAlU6kcCi4",
        "colab_type": "code",
        "colab": {}
      },
      "source": [
        "gdp_india_masked = np.ma.masked_array(data=gdp_arr, mask=india_timed_mask, copy=True)"
      ],
      "execution_count": 0,
      "outputs": []
    },
    {
      "cell_type": "code",
      "metadata": {
        "id": "RdICeYRBdyal",
        "colab_type": "code",
        "colab": {
          "base_uri": "https://localhost:8080/",
          "height": 293
        },
        "outputId": "dd503dd4-3115-4bb0-f1d9-1748fa9e6d0b"
      },
      "source": [
        "plt.imshow(gdp_india_masked[1], cmap='Accent', shape=(15, 15))"
      ],
      "execution_count": 48,
      "outputs": [
        {
          "output_type": "stream",
          "text": [
            "/usr/local/lib/python3.6/dist-packages/ipykernel_launcher.py:1: MatplotlibDeprecationWarning: The 'shape' parameter of imshow() is deprecated since Matplotlib 3.1 and will be removed in 3.3.  If any parameter follows 'shape', they should be pass as keyword, not positionally.\n",
            "  \"\"\"Entry point for launching an IPython kernel.\n"
          ],
          "name": "stderr"
        },
        {
          "output_type": "execute_result",
          "data": {
            "text/plain": [
              "<matplotlib.image.AxesImage at 0x7fc8dad91550>"
            ]
          },
          "metadata": {
            "tags": []
          },
          "execution_count": 48
        },
        {
          "output_type": "display_data",
          "data": {
            "image/png": "[encoded data removed]",
            "text/plain": [
              "<Figure size 432x288 with 1 Axes>"
            ]
          },
          "metadata": {
            "tags": []
          }
        }
      ]
    },
    {
      "cell_type": "code",
      "metadata": {
        "id": "c_wr3BGngYyd",
        "colab_type": "code",
        "colab": {
          "base_uri": "https://localhost:8080/",
          "height": 791
        },
        "outputId": "1b9128ee-fc03-4460-d881-c29a7186e919"
      },
      "source": [
        "print(gdp_india_masked[0].flatten()[(gdp_india_masked[0].flatten()!=-9.0) & (gdp_india_masked[0].flatten()!=0.0)].shape)\n",
        "print(gdp_india_masked[0].flatten().shape)\n",
        "plt.hist(x=gdp_india_masked[0].flatten()[(gdp_india_masked[0].flatten()!=-9.0) & (gdp_india_masked[0].flatten()!=0.0)].shape, bins=100)"
      ],
      "execution_count": 68,
      "outputs": [
        {
          "output_type": "stream",
          "text": [
            "(9330587,)\n",
            "(9331200,)\n"
          ],
          "name": "stdout"
        },
        {
          "output_type": "execute_result",
          "data": {
            "text/plain": [
              "(array([0., 0., 0., 0., 0., 0., 0., 0., 0., 0., 0., 0., 0., 0., 0., 0., 0.,\n",
              "        0., 0., 0., 0., 0., 0., 0., 0., 0., 0., 0., 0., 0., 0., 0., 0., 0.,\n",
              "        0., 0., 0., 0., 0., 0., 0., 0., 0., 0., 0., 0., 0., 0., 0., 0., 1.,\n",
              "        0., 0., 0., 0., 0., 0., 0., 0., 0., 0., 0., 0., 0., 0., 0., 0., 0.,\n",
              "        0., 0., 0., 0., 0., 0., 0., 0., 0., 0., 0., 0., 0., 0., 0., 0., 0.,\n",
              "        0., 0., 0., 0., 0., 0., 0., 0., 0., 0., 0., 0., 0., 0., 0.]),\n",
              " array([9330586.5 , 9330586.51, 9330586.52, 9330586.53, 9330586.54,\n",
              "        9330586.55, 9330586.56, 9330586.57, 9330586.58, 9330586.59,\n",
              "        9330586.6 , 9330586.61, 9330586.62, 9330586.63, 9330586.64,\n",
              "        9330586.65, 9330586.66, 9330586.67, 9330586.68, 9330586.69,\n",
              "        9330586.7 , 9330586.71, 9330586.72, 9330586.73, 9330586.74,\n",
              "        9330586.75, 9330586.76, 9330586.77, 9330586.78, 9330586.79,\n",
              "        9330586.8 , 9330586.81, 9330586.82, 9330586.83, 9330586.84,\n",
              "        9330586.85, 9330586.86, 9330586.87, 9330586.88, 9330586.89,\n",
              "        9330586.9 , 9330586.91, 9330586.92, 9330586.93, 9330586.94,\n",
              "        9330586.95, 9330586.96, 9330586.97, 9330586.98, 9330586.99,\n",
              "        9330587.  , 9330587.01, 9330587.02, 9330587.03, 9330587.04,\n",
              "        9330587.05, 9330587.06, 9330587.07, 9330587.08, 9330587.09,\n",
              "        9330587.1 , 9330587.11, 9330587.12, 9330587.13, 9330587.14,\n",
              "        9330587.15, 9330587.16, 9330587.17, 9330587.18, 9330587.19,\n",
              "        9330587.2 , 9330587.21, 9330587.22, 9330587.23, 9330587.24,\n",
              "        9330587.25, 9330587.26, 9330587.27, 9330587.28, 9330587.29,\n",
              "        9330587.3 , 9330587.31, 9330587.32, 9330587.33, 9330587.34,\n",
              "        9330587.35, 9330587.36, 9330587.37, 9330587.38, 9330587.39,\n",
              "        9330587.4 , 9330587.41, 9330587.42, 9330587.43, 9330587.44,\n",
              "        9330587.45, 9330587.46, 9330587.47, 9330587.48, 9330587.49,\n",
              "        9330587.5 ]),\n",
              " <a list of 100 Patch objects>)"
            ]
          },
          "metadata": {
            "tags": []
          },
          "execution_count": 68
        },
        {
          "output_type": "display_data",
          "data": {
            "image/png": "[encoded data removed]",
            "text/plain": [
              "<Figure size 432x288 with 1 Axes>"
            ]
          },
          "metadata": {
            "tags": []
          }
        }
      ]
    },
    {
      "cell_type": "code",
      "metadata": {
        "id": "9jGLMAgWifL_",
        "colab_type": "code",
        "colab": {}
      },
      "source": [
        "new_mask_ocean_world = (gdp_arr[0]!=-9.0) & (gdp_arr[0]!=0.0)"
      ],
      "execution_count": 0,
      "outputs": []
    },
    {
      "cell_type": "code",
      "metadata": {
        "id": "tSN9N3rdcwow",
        "colab_type": "code",
        "colab": {
          "base_uri": "https://localhost:8080/",
          "height": 34
        },
        "outputId": "94e97463-9665-42b1-ee50-28a0ea510c41"
      },
      "source": [
        "gdp_arr.shape"
      ],
      "execution_count": 37,
      "outputs": [
        {
          "output_type": "execute_result",
          "data": {
            "text/plain": [
              "(26, 2160, 4320)"
            ]
          },
          "metadata": {
            "tags": []
          },
          "execution_count": 37
        }
      ]
    },
    {
      "cell_type": "code",
      "metadata": {
        "id": "oZ8btSntpzmC",
        "colab_type": "code",
        "colab": {}
      },
      "source": [
        "import matplotlib.pyplot as plt\n",
        "fig, ax = plt.subplots(1, figsize=(15, 15))\n",
        "ax.imshow(india_masked_array[0])for an upd"
      ],
      "execution_count": 0,
      "outputs": []
    },
    {
      "cell_type": "code",
      "metadata": {
        "id": "7WEuMBq0euuL",
        "colab_type": "code",
        "colab": {}
      },
      "source": [
        "india.crs"
      ],
      "execution_count": 0,
      "outputs": []
    },
    {
      "cell_type": "code",
      "metadata": {
        "id": "WIb_9m3MiGtQ",
        "colab_type": "code",
        "colab": {}
      },
      "source": [
        "## Next steps as follows:\n",
        "# Create a masked array of same shape as original with mask everything except India, save it, then go ahead with eof analysis."
      ],
      "execution_count": 0,
      "outputs": []
    }
  ]
}