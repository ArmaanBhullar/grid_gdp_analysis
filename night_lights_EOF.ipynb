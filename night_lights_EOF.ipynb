{
 "cells": [
  {
   "cell_type": "markdown",
   "metadata": {},
   "source": [
    "## EOF for nightlights\n",
    "This notebook is to analyze EOF for [nightlights](https://ngdc.noaa.gov/eog/dmsp/downloadV4composites.html) data. Key steps:\n",
    "1. Construct temporal array for nightlights data (time x lat x long)\n",
    "2. Conduct EOF\n",
    "3. Manually analyze images produced as a result"
   ]
  },
  {
   "cell_type": "code",
   "execution_count": 2,
   "metadata": {},
   "outputs": [],
   "source": [
    "import numpy as np\n",
    "import os\n",
    "# import eofs\n",
    "# import tqdm\n",
    "# import matplotlib.pyplot as plt\n",
    "import rasterio as rio\n",
    "from rasterio.plot import show, show_hist\n",
    "from rasterio.mask import mask\n",
    "from shapely.geometry import Polygon, mapping\n",
    "import seaborn as sns\n",
    "import jupyterthemes\n",
    "from jupyterthemes import jtplot\n",
    "jupyterthemes.jtplot.style('onedork')\n",
    "sns.set()"
   ]
  },
  {
   "cell_type": "code",
   "execution_count": 3,
   "metadata": {},
   "outputs": [],
   "source": [
    "import matplotlib.pyplot as plt"
   ]
  },
  {
   "cell_type": "markdown",
   "metadata": {},
   "source": [
    "## Construct temporal array for nightlights data\n",
    "1. Download nightlights data for years 1990 - 2015\n",
    "2. Extract nightlights at reduced granularity and append to a list.\n",
    "3. Save the list and load for later analysis"
   ]
  },
  {
   "cell_type": "code",
   "execution_count": 4,
   "metadata": {},
   "outputs": [
    {
     "name": "stdout",
     "output_type": "stream",
     "text": [
      "F101993.v4  F141998.v4\tF152003.v4  F162008.v4\tF182013.v4\r\n",
      "F121994.v4  F141999.v4\tF162004.v4  F162009.v4\tnew.tif\r\n",
      "F121995.v4  F152000.v4\tF162005.v4  F182010.v4\tnlight_downsampled_combined.pkl\r\n",
      "F121996.v4  F152001.v4\tF162006.v4  F182011.v4\r\n",
      "F141997.v4  F152002.v4\tF162007.v4  F182012.v4\r\n"
     ]
    }
   ],
   "source": [
    "! ls data/nightlights/"
   ]
  },
  {
   "cell_type": "code",
   "execution_count": 5,
   "metadata": {},
   "outputs": [],
   "source": [
    "import sys\n"
   ]
  },
  {
   "cell_type": "code",
   "execution_count": 6,
   "metadata": {},
   "outputs": [
    {
     "name": "stdout",
     "output_type": "stream",
     "text": [
      "46\n",
      "['./data/nightlights/F101993.v4/F101993.v4b_web.stable_lights.avg_vis_downsampled.tif', './data/nightlights/F101993.v4/F101993.v4b_web.stable_lights.avg_vis_downsampled_downsampled.tif', './data/nightlights/F101993.v4/F101993.v4b_web.stable_lights.avg_vis.tif', './data/nightlights/F182011.v4/F182011.v4c_web.stable_lights.avg_vis_downsampled.tif', './data/nightlights/F182011.v4/F182011.v4c_web.stable_lights.avg_vis.tif', './data/nightlights/F121994.v4/F121994.v4b_web.stable_lights.avg_vis_downsampled_downsampled.tif', './data/nightlights/F121994.v4/F121994.v4b_web.stable_lights.avg_vis.tif', './data/nightlights/F121994.v4/F121994.v4b_web.stable_lights.avg_vis_downsampled.tif', './data/nightlights/F162006.v4/F162006.v4b_web.stable_lights.avg_vis.tif', './data/nightlights/F162006.v4/F162006.v4b_web.stable_lights.avg_vis_downsampled.tif', './data/nightlights/F141998.v4/F141998.v4b_web.stable_lights.avg_vis.tif', './data/nightlights/F141998.v4/F141998.v4b_web.stable_lights.avg_vis_downsampled.tif', './data/nightlights/F121995.v4/F121995.v4b_web.stable_lights.avg_vis_downsampled.tif', './data/nightlights/F121995.v4/F121995.v4b_web.stable_lights.avg_vis_downsampled_downsampled.tif', './data/nightlights/F121995.v4/F121995.v4b_web.stable_lights.avg_vis.tif', './data/nightlights/F162008.v4/F162008.v4b_web.stable_lights.avg_vis.tif', './data/nightlights/F162008.v4/F162008.v4b_web.stable_lights.avg_vis_downsampled.tif', './data/nightlights/F141999.v4/F141999.v4b_web.stable_lights.avg_vis_downsampled.tif', './data/nightlights/F141999.v4/F141999.v4b_web.stable_lights.avg_vis.tif', './data/nightlights/F162005.v4/F162005.v4b_web.stable_lights.avg_vis_downsampled.tif', './data/nightlights/F162005.v4/F162005.v4b_web.stable_lights.avg_vis.tif', './data/nightlights/F152002.v4/F152002.v4b_web.stable_lights.avg_vis_downsampled.tif', './data/nightlights/F152002.v4/F152002.v4b_web.stable_lights.avg_vis.tif', './data/nightlights/F162004.v4/F162004.v4b_web.stable_lights.avg_vis_downsampled.tif', './data/nightlights/F162004.v4/F162004.v4b_web.stable_lights.avg_vis.tif', './data/nightlights/F162007.v4/F162007.v4b_web.stable_lights.avg_vis_downsampled.tif', './data/nightlights/F162007.v4/F162007.v4b_web.stable_lights.avg_vis.tif', './data/nightlights/F162009.v4/F162009.v4b_web.stable_lights.avg_vis.tif', './data/nightlights/F162009.v4/F162009.v4b_web.stable_lights.avg_vis_downsampled.tif', './data/nightlights/F121996.v4/F121996.v4b_web.stable_lights.avg_vis.tif', './data/nightlights/F121996.v4/F121996.v4b_web.stable_lights.avg_vis_downsampled.tif', './data/nightlights/F182012.v4/F182012.v4c_web.stable_lights.avg_vis.tif', './data/nightlights/F182012.v4/F182012.v4c_web.stable_lights.avg_vis_downsampled.tif', './data/nightlights/F152001.v4/F152001.v4b_web.stable_lights.avg_vis.tif', './data/nightlights/F152001.v4/F152001.v4b_web.stable_lights.avg_vis_downsampled.tif', './data/nightlights/F152003.v4/F152003.v4b_web.stable_lights.avg_vis.tif', './data/nightlights/F152003.v4/F152003.v4b_web.stable_lights.avg_vis_downsampled.tif', './data/nightlights/F141997.v4/F141997.v4b_web.stable_lights.avg_vis_downsampled.tif', './data/nightlights/F141997.v4/F141997.v4b_web.stable_lights.avg_vis.tif', './data/nightlights/F182013.v4/F182013.v4c_web.stable_lights.avg_vis_downsampled_downsampled.tif', './data/nightlights/F182013.v4/F182013.v4c_web.stable_lights.avg_vis.tif', './data/nightlights/F182013.v4/F182013.v4c_web.stable_lights.avg_vis_downsampled.tif', './data/nightlights/F182010.v4/F182010.v4d_web.stable_lights.avg_vis.tif', './data/nightlights/F182010.v4/F182010.v4d_web.stable_lights.avg_vis_downsampled.tif', './data/nightlights/F152000.v4/F152000.v4b_web.stable_lights.avg_vis.tif', './data/nightlights/F152000.v4/F152000.v4b_web.stable_lights.avg_vis_downsampled.tif']\n"
     ]
    }
   ],
   "source": [
    "base_path = './data/nightlights/'\n",
    "import fnmatch\n",
    "def get_tif_paths(base_path):\n",
    "    tif_paths = []\n",
    "    for dirname in os.listdir(base_path):\n",
    "        filename = os.path.join(base_path, dirname)\n",
    "        if os.path.isdir(filename):\n",
    "            tif_paths.append(filename)\n",
    "#     print(tif_paths)\n",
    "    tif_p = []\n",
    "    for d in tif_paths:\n",
    "        for f in os.listdir(d):\n",
    "            if fnmatch.fnmatch(f, \"*.tif\"):\n",
    "                tif_p.append(os.path.join(d, f))\n",
    "        \n",
    "    return tif_p\n",
    "tif_paths = get_tif_paths(base_path)\n",
    "print(len(tif_paths))\n",
    "print(tif_paths)\n",
    "# def extract_tif(filepath):\n",
    "    "
   ]
  },
  {
   "cell_type": "markdown",
   "metadata": {},
   "source": [
    "What do all the above files mean? Which one to choose? How to work with raster?\n",
    "\n",
    "\n",
    "From [description page](https://ngdc.noaa.gov/eog/gcv4_readme.txt): \n",
    "* Each tar ball contains the raw average visible band, cleaned up average visible band, cloud free coverage data, and a readme file. \n",
    "* The data files have been compressed with gzip.\n",
    "\n",
    "For us, the useful file is then F1?YYYY_v4b_stable_lights.avg_vis.tif\n",
    "\n",
    "To work with this tiff data, we'll use GDAL and rasterio libraries.\n",
    "\n",
    "[This](https://annefou.github.io/metos_python/02-formats/) is a good tutorial on basic python data formats"
   ]
  },
  {
   "cell_type": "code",
   "execution_count": 7,
   "metadata": {},
   "outputs": [
    {
     "name": "stdout",
     "output_type": "stream",
     "text": [
      "(-180.00416666665, 180.00416522664995, -65.00416610665, 75.00416666665)\n",
      "{'driver': 'GTiff', 'dtype': 'uint8', 'nodata': None, 'width': 4320, 'height': 2160, 'count': 1, 'crs': CRS.from_epsg(4326), 'transform': Affine(0.08333526201233796, 0.0, -180.00416666665,\n",
      "       0.0, -0.06481867258023148, 75.00416666665), 'tiled': False, 'interleave': 'band'}\n",
      "(2160, 4320)\n",
      "<class 'numpy.ma.core.MaskedArray'>\n"
     ]
    }
   ],
   "source": [
    "nlight_path = tif_paths[0]\n",
    "# open raster data\n",
    "with rio.open(nlight_path) as src:\n",
    "    nlight = src.read(masked=True, indexes = 1)\n",
    "    nlight_meta = src.profile\n",
    "    nlight_extent = rio.plot.plotting_extent(src)\n",
    "print(nlight_extent)\n",
    "print(nlight_meta)\n",
    "print(nlight.shape)\n",
    "print(type(nlight))"
   ]
  },
  {
   "cell_type": "markdown",
   "metadata": {},
   "source": [
    "## Let's plot the nighlights!"
   ]
  },
  {
   "cell_type": "code",
   "execution_count": 47,
   "metadata": {},
   "outputs": [],
   "source": [
    "# let's turn off interactive mode so only show command plots in jupyter \n",
    "# Turn interactive plotting off\n",
    "plt.ion()"
   ]
  },
  {
   "cell_type": "code",
   "execution_count": 34,
   "metadata": {},
   "outputs": [],
   "source": [
    "fig, ax = plt.subplots(figsize=(10, 10))\n",
    "ax.imshow(nlight)\n",
    "plt.savefig('plots/nlight_0.png', dpi=100)"
   ]
  },
  {
   "cell_type": "markdown",
   "metadata": {},
   "source": [
    "## Nightlights dataset needs to be resampled, else calculating EOF components will be very computation instensive.\n",
    "* Get the required dimensions\n",
    "* Reproject using raster functions\n",
    "\n",
    "Now that we've seen the raster, we need to downsample it for further analysis as it just takes way to long to even plot, one way is "
   ]
  },
  {
   "cell_type": "code",
   "execution_count": 8,
   "metadata": {},
   "outputs": [],
   "source": [
    "from rasterio.warp import calculate_default_transform, reproject, Resampling\n",
    "def resample_raster(src_file, dest_file, dest_lon_size, dest_lat_size):\n",
    "    with rio.open(src_file) as src:\n",
    "        dst_crs = src.crs\n",
    "        #Get the transform required ...\n",
    "        transform, width, height = calculate_default_transform(\n",
    "            src.crs, \n",
    "            dst_crs, \n",
    "            src.width, \n",
    "            src.height, \n",
    "            *src.bounds,\n",
    "            dst_width = dest_lon_size,\n",
    "            dst_height = dest_lat_size,\n",
    "        )\n",
    "        kwargs = src.meta.copy()\n",
    "        kwargs.update({\n",
    "            'crs': dst_crs,\n",
    "            'transform': transform,\n",
    "            'width': dest_lon_size,\n",
    "            'height': dest_lat_size,\n",
    "        })\n",
    "        with rio.open(dest_file, 'w', **kwargs) as dst:\n",
    "                for i in range(1, src.count + 1):\n",
    "                    reproject(\n",
    "                        source=rio.band(src, i),\n",
    "                        destination=rio.band(dst, i),\n",
    "                        src_transform=src.transform,\n",
    "                        src_crs=src.crs,\n",
    "                        dst_transform=transform,\n",
    "                        dst_crs=dst_crs,\n",
    "                        resampling=Resampling.average)"
   ]
  },
  {
   "cell_type": "code",
   "execution_count": 93,
   "metadata": {},
   "outputs": [
    {
     "name": "stdout",
     "output_type": "stream",
     "text": [
      "(-180.00416666665, 180.00416522664995, -65.00416610665, 75.00416666665)\n",
      "{'driver': 'GTiff', 'dtype': 'uint8', 'nodata': None, 'width': 4320, 'height': 2160, 'count': 1, 'crs': CRS.from_epsg(4326), 'transform': Affine(0.08333526201233796, 0.0, -180.00416666665,\n",
      "       0.0, -0.06481867258023148, 75.00416666665), 'tiled': False, 'interleave': 'band'}\n",
      "(2160, 4320)\n",
      "<class 'numpy.ma.core.MaskedArray'>\n"
     ]
    },
    {
     "data": {
      "image/png": "[encoded data removed]",
      "text/plain": [
       "<Figure size 720x720 with 1 Axes>"
      ]
     },
     "metadata": {},
     "output_type": "display_data"
    }
   ],
   "source": [
    "# open raster data\n",
    "# Plotting a sample as genrated above\n",
    "with rio.open('./data/nightlights/new.tif') as src:\n",
    "    nlight = src.read(masked=True, indexes = 1)\n",
    "    nlight_meta = src.profile\n",
    "    nlight_extent = rio.plot.plotting_extent(src)\n",
    "print(nlight_extent)\n",
    "print(nlight_meta)\n",
    "print(nlight.shape)\n",
    "print(type(nlight))\n",
    "\n",
    "fig, ax = plt.subplots(figsize=(10, 10))\n",
    "ax.imshow(nlight.data)\n",
    "ax.grid(False)\n",
    "# plt.savefig('plots/nlight_0.png', dpi=100)"
   ]
  },
  {
   "cell_type": "code",
   "execution_count": 94,
   "metadata": {},
   "outputs": [
    {
     "name": "stdout",
     "output_type": "stream",
     "text": [
      "./data/nightlights/F101993.v4/F101993.v4b_web.stable_lights.avg_vis_downsampled_downsampled.tif  .. done\n",
      "./data/nightlights/F101993.v4/F101993.v4b_web.stable_lights.avg_vis_downsampled.tif  .. done\n",
      "./data/nightlights/F182011.v4/F182011.v4c_web.stable_lights.avg_vis_downsampled.tif  .. done\n",
      "./data/nightlights/F121994.v4/F121994.v4b_web.stable_lights.avg_vis_downsampled.tif  .. done\n",
      "./data/nightlights/F121994.v4/F121994.v4b_web.stable_lights.avg_vis_downsampled_downsampled.tif  .. done\n",
      "./data/nightlights/F162006.v4/F162006.v4b_web.stable_lights.avg_vis_downsampled.tif  .. done\n",
      "./data/nightlights/F141998.v4/F141998.v4b_web.stable_lights.avg_vis_downsampled.tif  .. done\n",
      "./data/nightlights/F121995.v4/F121995.v4b_web.stable_lights.avg_vis_downsampled_downsampled.tif  .. done\n",
      "./data/nightlights/F121995.v4/F121995.v4b_web.stable_lights.avg_vis_downsampled.tif  .. done\n",
      "./data/nightlights/F162008.v4/F162008.v4b_web.stable_lights.avg_vis_downsampled.tif  .. done\n",
      "./data/nightlights/F141999.v4/F141999.v4b_web.stable_lights.avg_vis_downsampled.tif  .. done\n",
      "./data/nightlights/F162005.v4/F162005.v4b_web.stable_lights.avg_vis_downsampled.tif  .. done\n",
      "./data/nightlights/F152002.v4/F152002.v4b_web.stable_lights.avg_vis_downsampled.tif  .. done\n",
      "./data/nightlights/F162004.v4/F162004.v4b_web.stable_lights.avg_vis_downsampled.tif  .. done\n",
      "./data/nightlights/F162007.v4/F162007.v4b_web.stable_lights.avg_vis_downsampled.tif  .. done\n",
      "./data/nightlights/F162009.v4/F162009.v4b_web.stable_lights.avg_vis_downsampled.tif  .. done\n",
      "./data/nightlights/F121996.v4/F121996.v4b_web.stable_lights.avg_vis_downsampled.tif  .. done\n",
      "./data/nightlights/F182012.v4/F182012.v4c_web.stable_lights.avg_vis_downsampled.tif  .. done\n",
      "./data/nightlights/F152001.v4/F152001.v4b_web.stable_lights.avg_vis_downsampled.tif  .. done\n",
      "./data/nightlights/F152003.v4/F152003.v4b_web.stable_lights.avg_vis_downsampled.tif  .. done\n",
      "./data/nightlights/F141997.v4/F141997.v4b_web.stable_lights.avg_vis_downsampled.tif  .. done\n",
      "./data/nightlights/F182013.v4/F182013.v4c_web.stable_lights.avg_vis_downsampled.tif  .. done\n",
      "./data/nightlights/F182013.v4/F182013.v4c_web.stable_lights.avg_vis_downsampled_downsampled.tif  .. done\n",
      "./data/nightlights/F182010.v4/F182010.v4d_web.stable_lights.avg_vis_downsampled.tif  .. done\n",
      "./data/nightlights/F152000.v4/F152000.v4b_web.stable_lights.avg_vis_downsampled.tif  .. done\n"
     ]
    }
   ],
   "source": [
    "latdim, londim = 2160, 4320\n",
    "for file in tif_paths:\n",
    "    dst_path = file[:-4]+\"_downsampled.tif\"\n",
    "    resample_raster(file, dst_path, londim, latdim)\n",
    "    print(dst_path, \" .. done\")"
   ]
  },
  {
   "cell_type": "markdown",
   "metadata": {},
   "source": [
    "## Load the downsampled tif and perform EOF analysis\n",
    "* construct the file list\n",
    "* construct numpy array with first dimension as time dimension\n",
    "* Save the numpy array for future use\n",
    "* Run EOF and visualize results"
   ]
  },
  {
   "cell_type": "code",
   "execution_count": 12,
   "metadata": {},
   "outputs": [
    {
     "data": {
      "text/plain": [
       "['./data/nightlights/F101993.v4/F101993.v4b_web.stable_lights.avg_vis_downsampled.tif',\n",
       " './data/nightlights/F101993.v4/F101993.v4b_web.stable_lights.avg_vis.tif',\n",
       " './data/nightlights/F182011.v4/F182011.v4c_web.stable_lights.avg_vis_downsampled.tif',\n",
       " './data/nightlights/F182011.v4/F182011.v4c_web.stable_lights.avg_vis.tif',\n",
       " './data/nightlights/F121994.v4/F121994.v4b_web.stable_lights.avg_vis_downsampled_downsampled.tif',\n",
       " './data/nightlights/F121994.v4/F121994.v4b_web.stable_lights.avg_vis.tif',\n",
       " './data/nightlights/F121994.v4/F121994.v4b_web.stable_lights.avg_vis_downsampled.tif',\n",
       " './data/nightlights/F162006.v4/F162006.v4b_web.stable_lights.avg_vis.tif',\n",
       " './data/nightlights/F162006.v4/F162006.v4b_web.stable_lights.avg_vis_downsampled.tif',\n",
       " './data/nightlights/F141998.v4/F141998.v4b_web.stable_lights.avg_vis.tif',\n",
       " './data/nightlights/F141998.v4/F141998.v4b_web.stable_lights.avg_vis_downsampled.tif',\n",
       " './data/nightlights/F121995.v4/F121995.v4b_web.stable_lights.avg_vis_downsampled.tif',\n",
       " './data/nightlights/F121995.v4/F121995.v4b_web.stable_lights.avg_vis_downsampled_downsampled.tif',\n",
       " './data/nightlights/F121995.v4/F121995.v4b_web.stable_lights.avg_vis.tif',\n",
       " './data/nightlights/F162008.v4/F162008.v4b_web.stable_lights.avg_vis.tif',\n",
       " './data/nightlights/F162008.v4/F162008.v4b_web.stable_lights.avg_vis_downsampled.tif',\n",
       " './data/nightlights/F141999.v4/F141999.v4b_web.stable_lights.avg_vis_downsampled.tif',\n",
       " './data/nightlights/F141999.v4/F141999.v4b_web.stable_lights.avg_vis.tif',\n",
       " './data/nightlights/F162005.v4/F162005.v4b_web.stable_lights.avg_vis_downsampled.tif',\n",
       " './data/nightlights/F162005.v4/F162005.v4b_web.stable_lights.avg_vis.tif',\n",
       " './data/nightlights/F152002.v4/F152002.v4b_web.stable_lights.avg_vis_downsampled.tif',\n",
       " './data/nightlights/F152002.v4/F152002.v4b_web.stable_lights.avg_vis.tif',\n",
       " './data/nightlights/F162004.v4/F162004.v4b_web.stable_lights.avg_vis_downsampled.tif',\n",
       " './data/nightlights/F162004.v4/F162004.v4b_web.stable_lights.avg_vis.tif',\n",
       " './data/nightlights/F162007.v4/F162007.v4b_web.stable_lights.avg_vis_downsampled.tif',\n",
       " './data/nightlights/F162007.v4/F162007.v4b_web.stable_lights.avg_vis.tif',\n",
       " './data/nightlights/F162009.v4/F162009.v4b_web.stable_lights.avg_vis.tif',\n",
       " './data/nightlights/F162009.v4/F162009.v4b_web.stable_lights.avg_vis_downsampled.tif',\n",
       " './data/nightlights/F121996.v4/F121996.v4b_web.stable_lights.avg_vis.tif',\n",
       " './data/nightlights/F121996.v4/F121996.v4b_web.stable_lights.avg_vis_downsampled.tif',\n",
       " './data/nightlights/F182012.v4/F182012.v4c_web.stable_lights.avg_vis.tif',\n",
       " './data/nightlights/F182012.v4/F182012.v4c_web.stable_lights.avg_vis_downsampled.tif',\n",
       " './data/nightlights/F152001.v4/F152001.v4b_web.stable_lights.avg_vis.tif',\n",
       " './data/nightlights/F152001.v4/F152001.v4b_web.stable_lights.avg_vis_downsampled.tif',\n",
       " './data/nightlights/F152003.v4/F152003.v4b_web.stable_lights.avg_vis.tif',\n",
       " './data/nightlights/F152003.v4/F152003.v4b_web.stable_lights.avg_vis_downsampled.tif',\n",
       " './data/nightlights/F141997.v4/F141997.v4b_web.stable_lights.avg_vis_downsampled.tif',\n",
       " './data/nightlights/F141997.v4/F141997.v4b_web.stable_lights.avg_vis.tif',\n",
       " './data/nightlights/F182013.v4/F182013.v4c_web.stable_lights.avg_vis_downsampled_downsampled.tif',\n",
       " './data/nightlights/F182013.v4/F182013.v4c_web.stable_lights.avg_vis.tif',\n",
       " './data/nightlights/F182013.v4/F182013.v4c_web.stable_lights.avg_vis_downsampled.tif',\n",
       " './data/nightlights/F182010.v4/F182010.v4d_web.stable_lights.avg_vis.tif',\n",
       " './data/nightlights/F182010.v4/F182010.v4d_web.stable_lights.avg_vis_downsampled.tif',\n",
       " './data/nightlights/F152000.v4/F152000.v4b_web.stable_lights.avg_vis.tif',\n",
       " './data/nightlights/F152000.v4/F152000.v4b_web.stable_lights.avg_vis_downsampled.tif']"
      ]
     },
     "execution_count": 12,
     "metadata": {},
     "output_type": "execute_result"
    }
   ],
   "source": [
    "tif_paths"
   ]
  },
  {
   "cell_type": "code",
   "execution_count": 15,
   "metadata": {},
   "outputs": [
    {
     "name": "stdout",
     "output_type": "stream",
     "text": [
      "./data/nlights_downsampled/F121995.v4b_web.stable_lights.avg_vis_downsampled.tif\n",
      "./data/nlights_downsampled/F182011.v4c_web.stable_lights.avg_vis_downsampled.tif\n",
      "./data/nlights_downsampled/F162007.v4b_web.stable_lights.avg_vis_downsampled.tif\n",
      "./data/nlights_downsampled/F141999.v4b_web.stable_lights.avg_vis_downsampled.tif\n",
      "./data/nlights_downsampled/F141997.v4b_web.stable_lights.avg_vis_downsampled.tif\n",
      "./data/nlights_downsampled/F152002.v4b_web.stable_lights.avg_vis_downsampled.tif\n",
      "./data/nlights_downsampled/F162005.v4b_web.stable_lights.avg_vis_downsampled.tif\n",
      "./data/nlights_downsampled/F182013.v4c_web.stable_lights.avg_vis_downsampled.tif\n",
      "./data/nlights_downsampled/F121994.v4b_web.stable_lights.avg_vis_downsampled.tif\n",
      "./data/nlights_downsampled/F162004.v4b_web.stable_lights.avg_vis_downsampled.tif\n",
      "./data/nlights_downsampled/F141998.v4b_web.stable_lights.avg_vis_downsampled.tif\n",
      "./data/nlights_downsampled/F101993.v4b_web.stable_lights.avg_vis_downsampled.tif\n",
      "./data/nlights_downsampled/F121996.v4b_web.stable_lights.avg_vis_downsampled.tif\n",
      "./data/nlights_downsampled/F162009.v4b_web.stable_lights.avg_vis_downsampled.tif\n",
      "./data/nlights_downsampled/F162008.v4b_web.stable_lights.avg_vis_downsampled.tif\n",
      "./data/nlights_downsampled/F182010.v4d_web.stable_lights.avg_vis_downsampled.tif\n",
      "./data/nlights_downsampled/F152001.v4b_web.stable_lights.avg_vis_downsampled.tif\n",
      "./data/nlights_downsampled/F162006.v4b_web.stable_lights.avg_vis_downsampled.tif\n",
      "./data/nlights_downsampled/F152003.v4b_web.stable_lights.avg_vis_downsampled.tif\n",
      "./data/nlights_downsampled/F152000.v4b_web.stable_lights.avg_vis_downsampled.tif\n",
      "./data/nlights_downsampled/F182012.v4c_web.stable_lights.avg_vis_downsampled.tif\n"
     ]
    }
   ],
   "source": [
    "donwsampled_dir = \"./data/nlights_downsampled\"\n",
    "f_list = [os.path.join(donwsampled_dir, x) for x in os.listdir(downsampled_dir)]\n",
    "nlights = {\n",
    "    'year':[],\n",
    "    'data':[],\n",
    "    'profile':[],\n",
    "    'extent':[]\n",
    "          }\n",
    "\n",
    "for f in f_list:\n",
    "    with rio.open(f) as src:\n",
    "        print(f)\n",
    "#         year = extract_year(f)\n",
    "        nlight = src.read(masked=True, indexes = 1)\n",
    "        nlights['data'].append(nlight.data)\n",
    "        nlights['extent'].append(rio.plot.plotting_extent(src))\n",
    "        nlights['profile'].append(src.profile)\n",
    "\n",
    "\n",
    "import pickle\n",
    "with open('./data/nightlights/nlight_downsampled_combined.pkl', 'wb') as fp:\n",
    "    pickle.dump(nlights, fp)"
   ]
  },
  {
   "cell_type": "markdown",
   "metadata": {},
   "source": [
    "# Perform EOF analysis on nightlights\n",
    "* Read the data from pkl"
   ]
  },
  {
   "cell_type": "code",
   "execution_count": null,
   "metadata": {},
   "outputs": [],
   "source": []
  }
 ],
 "metadata": {
  "kernelspec": {
   "display_name": "Python 3",
   "language": "python",
   "name": "python3"
  },
  "language_info": {
   "codemirror_mode": {
    "name": "ipython",
    "version": 3
   },
   "file_extension": ".py",
   "mimetype": "text/x-python",
   "name": "python",
   "nbconvert_exporter": "python",
   "pygments_lexer": "ipython3",
   "version": "3.7.3"
  }
 },
 "nbformat": 4,
 "nbformat_minor": 2
}
