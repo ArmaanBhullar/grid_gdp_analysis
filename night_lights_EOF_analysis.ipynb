{
 "cells": [
  {
   "cell_type": "markdown",
   "metadata": {},
   "source": [
    "# Load data for analysis"
   ]
  },
  {
   "cell_type": "code",
   "execution_count": 1,
   "metadata": {},
   "outputs": [],
   "source": [
    "import pickle\n",
    "with open('./data/nightlights/nlight_downsampled_combined.pkl', 'rb') as fp:\n",
    "    nlights = pickle.load(fp)"
   ]
  },
  {
   "cell_type": "markdown",
   "metadata": {},
   "source": [
    "## Load an example file to find out latitudes and longitudes\n",
    "* Method from [here](https://gis.stackexchange.com/questions/129847/obtain-coordinates-and-corresponding-pixel-values-from-geotiff-using-python-gdal)"
   ]
  },
  {
   "cell_type": "code",
   "execution_count": 8,
   "metadata": {},
   "outputs": [],
   "source": [
    "from affine import Affine\n",
    "import rasterio\n",
    "from pyproj import Proj, transform\n",
    "fname = './data/nlights_downsampled/F101993.v4b_web.stable_lights.avg_vis_downsampled.tif'\n",
    "# Read raster\n",
    "with rasterio.open(fname) as r:\n",
    "    T0 = r.transform  # upper-left pixel corner affine transform\n",
    "    p1 = Proj(r.crs)\n",
    "    A = r.read()  # pixel values\n",
    "# All rows and columns\n",
    "cols, rows = np.meshgrid(np.arange(A.shape[2]), np.arange(A.shape[1]))\n",
    "\n",
    "# Get affine transform for pixel centres\n",
    "T1 = T0 * Affine.translation(0.5, 0.5)\n",
    "# Function to convert pixel row/column index (from 0) to easting/northing at centre\n",
    "rc2en = lambda r, c: (c, r) * T1\n",
    "\n",
    "# All eastings and northings (there is probably a faster way to do this)\n",
    "eastings, northings = np.vectorize(rc2en, otypes=[np.float, np.float])(rows, cols)\n",
    "\n",
    "# Project all longitudes, latitudes\n",
    "p2 = Proj(proj='latlong',datum='WGS84')\n",
    "lons, lats = transform(p1, p2, eastings, northings)"
   ]
  },
  {
   "cell_type": "code",
   "execution_count": 3,
   "metadata": {},
   "outputs": [],
   "source": [
    "import matplotlib.pyplot as plt\n",
    "import jupyterthemes\n",
    "import seaborn as sns\n",
    "from jupyterthemes import jtplot\n",
    "jupyterthemes.jtplot.style('onedork')\n",
    "sns.set()"
   ]
  },
  {
   "cell_type": "code",
   "execution_count": 5,
   "metadata": {},
   "outputs": [],
   "source": [
    "from eofs.standard import Eof\n",
    "import importlib as imp\n",
    "import numpy as np\n",
    "# imp.reload(Eof)\n",
    "solver = Eof(np.array(nlights[\"data\"]), center=True)"
   ]
  },
  {
   "cell_type": "code",
   "execution_count": 6,
   "metadata": {},
   "outputs": [
    {
     "name": "stdout",
     "output_type": "stream",
     "text": [
      "Shape of spatial compenenents (timexlongxlat) =  (21, 2160, 4320)\n",
      "Shape for time components :  (21, 21)\n"
     ]
    },
    {
     "data": {
      "image/png": "[encoded data removed]",
      "text/plain": [
       "<Figure size 460.8x403.2 with 1 Axes>"
      ]
     },
     "metadata": {},
     "output_type": "display_data"
    }
   ],
   "source": [
    "spatial_components = solver.eofs()\n",
    "pc_time = solver.pcs()\n",
    "# dims = (len(lats), len(lons))\n",
    "var_frac = solver.varianceFraction()\n",
    "print(\"Shape of spatial compenenents (timexlongxlat) = \", spatial_components.shape)\n",
    "print(\"Shape for time components : \", pc_time.shape)\n",
    "fig, ax = plt.subplots()\n",
    "ax.plot(range(len(var_frac)), 100*var_frac)\n",
    "ax.set_title(\"Percentage of captured variance per EOF component\")\n",
    "ax.set_xlabel(\"Component number\")\n",
    "ax.set_ylabel(\"Fraction of var captured\")\n",
    "plt.savefig('./plots/nlights_EOF/variance_capture_plot.png', format='png', dpi=1000)"
   ]
  },
  {
   "cell_type": "code",
   "execution_count": 32,
   "metadata": {},
   "outputs": [
    {
     "data": {
      "text/plain": [
       "array([-179.96249904, -179.87916377, -179.79582851, ...,  179.79582707,\n",
       "        179.87916233,  179.9624976 ])"
      ]
     },
     "execution_count": 32,
     "metadata": {},
     "output_type": "execute_result"
    }
   ],
   "source": [
    "lons[0, :]"
   ]
  },
  {
   "cell_type": "code",
   "execution_count": 40,
   "metadata": {},
   "outputs": [
    {
     "data": {
      "text/plain": [
       "-64.97175677035989"
      ]
     },
     "execution_count": 40,
     "metadata": {},
     "output_type": "execute_result"
    }
   ],
   "source": [
    "min(lats[:, 0])"
   ]
  },
  {
   "cell_type": "code",
   "execution_count": 44,
   "metadata": {},
   "outputs": [],
   "source": [
    "plt.rcParams['savefig.facecolor'] = 'white'"
   ]
  },
  {
   "cell_type": "code",
   "execution_count": 46,
   "metadata": {},
   "outputs": [],
   "source": [
    "plt.ion()"
   ]
  },
  {
   "cell_type": "code",
   "execution_count": 55,
   "metadata": {},
   "outputs": [
    {
     "data": {
      "text/plain": [
       "3470.842379791039"
      ]
     },
     "execution_count": 55,
     "metadata": {},
     "output_type": "execute_result"
    }
   ],
   "source": []
  },
  {
   "cell_type": "code",
   "execution_count": null,
   "metadata": {
    "scrolled": false
   },
   "outputs": [
    {
     "name": "stderr",
     "output_type": "stream",
     "text": [
      "  0%|          | 0/10 [00:00<?, ?it/s]/home/armaan/anaconda3/envs/_gis/lib/python3.7/site-packages/ipykernel_launcher.py:17: MatplotlibDeprecationWarning: \n",
      "The dedent function was deprecated in Matplotlib 3.1 and will be removed in 3.3. Use inspect.cleandoc instead.\n"
     ]
    },
    {
     "name": "stdout",
     "output_type": "stream",
     "text": [
      "2160 2160\n"
     ]
    },
    {
     "name": "stderr",
     "output_type": "stream",
     "text": [
      "/home/armaan/anaconda3/envs/_gis/lib/python3.7/site-packages/ipykernel_launcher.py:17: MatplotlibDeprecationWarning: \n",
      "The dedent function was deprecated in Matplotlib 3.1 and will be removed in 3.3. Use inspect.cleandoc instead.\n",
      "/home/armaan/anaconda3/envs/_gis/lib/python3.7/site-packages/ipykernel_launcher.py:24: MatplotlibDeprecationWarning: \n",
      "The dedent function was deprecated in Matplotlib 3.1 and will be removed in 3.3. Use inspect.cleandoc instead.\n",
      " 10%|█         | 1/10 [00:08<01:14,  8.32s/it]/home/armaan/anaconda3/envs/_gis/lib/python3.7/site-packages/ipykernel_launcher.py:17: MatplotlibDeprecationWarning: \n",
      "The dedent function was deprecated in Matplotlib 3.1 and will be removed in 3.3. Use inspect.cleandoc instead.\n"
     ]
    },
    {
     "name": "stdout",
     "output_type": "stream",
     "text": [
      "2160 2160\n"
     ]
    },
    {
     "name": "stderr",
     "output_type": "stream",
     "text": [
      "/home/armaan/anaconda3/envs/_gis/lib/python3.7/site-packages/ipykernel_launcher.py:17: MatplotlibDeprecationWarning: \n",
      "The dedent function was deprecated in Matplotlib 3.1 and will be removed in 3.3. Use inspect.cleandoc instead.\n",
      "/home/armaan/anaconda3/envs/_gis/lib/python3.7/site-packages/ipykernel_launcher.py:24: MatplotlibDeprecationWarning: \n",
      "The dedent function was deprecated in Matplotlib 3.1 and will be removed in 3.3. Use inspect.cleandoc instead.\n",
      " 20%|██        | 2/10 [00:16<01:06,  8.33s/it]/home/armaan/anaconda3/envs/_gis/lib/python3.7/site-packages/ipykernel_launcher.py:17: MatplotlibDeprecationWarning: \n",
      "The dedent function was deprecated in Matplotlib 3.1 and will be removed in 3.3. Use inspect.cleandoc instead.\n"
     ]
    },
    {
     "name": "stdout",
     "output_type": "stream",
     "text": [
      "2160 2160\n"
     ]
    },
    {
     "name": "stderr",
     "output_type": "stream",
     "text": [
      "/home/armaan/anaconda3/envs/_gis/lib/python3.7/site-packages/ipykernel_launcher.py:17: MatplotlibDeprecationWarning: \n",
      "The dedent function was deprecated in Matplotlib 3.1 and will be removed in 3.3. Use inspect.cleandoc instead.\n",
      "/home/armaan/anaconda3/envs/_gis/lib/python3.7/site-packages/ipykernel_launcher.py:24: MatplotlibDeprecationWarning: \n",
      "The dedent function was deprecated in Matplotlib 3.1 and will be removed in 3.3. Use inspect.cleandoc instead.\n",
      " 30%|███       | 3/10 [00:24<00:57,  8.15s/it]/home/armaan/anaconda3/envs/_gis/lib/python3.7/site-packages/ipykernel_launcher.py:17: MatplotlibDeprecationWarning: \n",
      "The dedent function was deprecated in Matplotlib 3.1 and will be removed in 3.3. Use inspect.cleandoc instead.\n"
     ]
    },
    {
     "name": "stdout",
     "output_type": "stream",
     "text": [
      "2160 2160\n"
     ]
    },
    {
     "name": "stderr",
     "output_type": "stream",
     "text": [
      "/home/armaan/anaconda3/envs/_gis/lib/python3.7/site-packages/ipykernel_launcher.py:17: MatplotlibDeprecationWarning: \n",
      "The dedent function was deprecated in Matplotlib 3.1 and will be removed in 3.3. Use inspect.cleandoc instead.\n",
      "/home/armaan/anaconda3/envs/_gis/lib/python3.7/site-packages/ipykernel_launcher.py:24: MatplotlibDeprecationWarning: \n",
      "The dedent function was deprecated in Matplotlib 3.1 and will be removed in 3.3. Use inspect.cleandoc instead.\n",
      " 40%|████      | 4/10 [00:32<00:49,  8.25s/it]/home/armaan/anaconda3/envs/_gis/lib/python3.7/site-packages/ipykernel_launcher.py:17: MatplotlibDeprecationWarning: \n",
      "The dedent function was deprecated in Matplotlib 3.1 and will be removed in 3.3. Use inspect.cleandoc instead.\n"
     ]
    },
    {
     "name": "stdout",
     "output_type": "stream",
     "text": [
      "2160 2160\n"
     ]
    },
    {
     "name": "stderr",
     "output_type": "stream",
     "text": [
      "/home/armaan/anaconda3/envs/_gis/lib/python3.7/site-packages/ipykernel_launcher.py:17: MatplotlibDeprecationWarning: \n",
      "The dedent function was deprecated in Matplotlib 3.1 and will be removed in 3.3. Use inspect.cleandoc instead.\n",
      "/home/armaan/anaconda3/envs/_gis/lib/python3.7/site-packages/ipykernel_launcher.py:24: MatplotlibDeprecationWarning: \n",
      "The dedent function was deprecated in Matplotlib 3.1 and will be removed in 3.3. Use inspect.cleandoc instead.\n",
      " 50%|█████     | 5/10 [1:06:22<1:39:14, 1190.80s/it]/home/armaan/anaconda3/envs/_gis/lib/python3.7/site-packages/ipykernel_launcher.py:17: MatplotlibDeprecationWarning: \n",
      "The dedent function was deprecated in Matplotlib 3.1 and will be removed in 3.3. Use inspect.cleandoc instead.\n"
     ]
    },
    {
     "name": "stdout",
     "output_type": "stream",
     "text": [
      "2160 2160\n"
     ]
    },
    {
     "name": "stderr",
     "output_type": "stream",
     "text": [
      "/home/armaan/anaconda3/envs/_gis/lib/python3.7/site-packages/ipykernel_launcher.py:17: MatplotlibDeprecationWarning: \n",
      "The dedent function was deprecated in Matplotlib 3.1 and will be removed in 3.3. Use inspect.cleandoc instead.\n",
      "/home/armaan/anaconda3/envs/_gis/lib/python3.7/site-packages/ipykernel_launcher.py:24: MatplotlibDeprecationWarning: \n",
      "The dedent function was deprecated in Matplotlib 3.1 and will be removed in 3.3. Use inspect.cleandoc instead.\n",
      " 60%|██████    | 6/10 [1:06:31<55:44, 836.13s/it]   /home/armaan/anaconda3/envs/_gis/lib/python3.7/site-packages/ipykernel_launcher.py:17: MatplotlibDeprecationWarning: \n",
      "The dedent function was deprecated in Matplotlib 3.1 and will be removed in 3.3. Use inspect.cleandoc instead.\n"
     ]
    },
    {
     "name": "stdout",
     "output_type": "stream",
     "text": [
      "2160 2160\n"
     ]
    }
   ],
   "source": [
    "from mpl_toolkits.basemap import Basemap, maskoceans\n",
    "import tqdm\n",
    "# lons, lats =  range(4320), range(2160)\n",
    "years = range(1993, 2014)\n",
    "for i in tqdm.tqdm(range(10)):\n",
    "    fig, ax = plt.subplots(nrows=2, ncols=1, figsize=(20, 10), gridspec_kw={'height_ratios': [3, 1]})\n",
    "    print(len(lons), len(lats))\n",
    "    m = Basemap(projection='cyl', \n",
    "#                 llcrnrlon=min(lons[0, :]),\n",
    "#                 llcrnrlat=min(lats[:, 0]),\n",
    "#                 urcrnrlon=max(lons[0, :]),\n",
    "#                 urcrnrlat=max(lats[:, 0]),\n",
    "                lon_0 = 0,\n",
    "                lat_0 = 0,\n",
    "                ax=ax[0],\n",
    "#                 width=10,\n",
    "               resolution = 'i')\n",
    "#     x, y = m(*np.meshgrid(lons, lats))\n",
    "    x, y = lons, lats\n",
    "    vals = maskoceans(x, y, spatial_components[i,:,:].squeeze())\n",
    "    clevs = np.linspace(np.min(vals), np.max(vals), 50)\n",
    "    cs = m.contourf(x, y, vals, cmap = plt.cm.coolwarm)\n",
    "    m.drawcoastlines()\n",
    "    m.drawcountries()\n",
    "    cb = m.colorbar(cs, 'right', size='5%', pad='2%')\n",
    "    cb.set_label('EOF', fontsize=12)\n",
    "    ax[0].set_title('EOF spatial component number {}'.format(i))\n",
    "#     ax[1].set_title('EOF ' + str(i+1), fontsize=16)\n",
    "    ax[1].plot(years, pc_time[:,i], linewidth=2)\n",
    "    ax[1].set_title('Temporal coefficient for EOF_{} over time'.format(i))\n",
    "    ax[1].set_xlabel('Measurement Year')\n",
    "    ax[1].set_ylabel('Coefficient value')\n",
    "    ax[1].set_ylim((np.min(pc_time[:,:10]), np.max(pc_time[:,:10])))\n",
    "#     ax[1].set_facecolor('xkcd:salmon')\n",
    "    plt.plot()\n",
    "    plt.savefig('./plots/nlights_EOF/EOF_{}.png'.format(i), format='png')"
   ]
  }
 ],
 "metadata": {
  "kernelspec": {
   "display_name": "Python 3",
   "language": "python",
   "name": "python3"
  },
  "language_info": {
   "codemirror_mode": {
    "name": "ipython",
    "version": 3
   },
   "file_extension": ".py",
   "mimetype": "text/x-python",
   "name": "python",
   "nbconvert_exporter": "python",
   "pygments_lexer": "ipython3",
   "version": "3.7.3"
  }
 },
 "nbformat": 4,
 "nbformat_minor": 2
}
